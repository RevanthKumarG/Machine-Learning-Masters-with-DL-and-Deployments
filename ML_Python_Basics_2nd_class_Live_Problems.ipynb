{
  "nbformat": 4,
  "nbformat_minor": 0,
  "metadata": {
    "colab": {
      "name": "ML_Python Basics_2nd class_Live Problems.ipynb",
      "provenance": [],
      "collapsed_sections": [],
      "authorship_tag": "ABX9TyN25gVjIbzn6AnpEwl8QJp4"
    },
    "kernelspec": {
      "name": "python3",
      "display_name": "Python 3"
    }
  },
  "cells": [
    {
      "cell_type": "code",
      "metadata": {
        "colab": {
          "base_uri": "https://localhost:8080/"
        },
        "id": "IEseXe5uZrD4",
        "outputId": "52353e94-c239-4d39-9286-af57b1740217"
      },
      "source": [
        "%%time\r\n",
        "lst = [1,3,4,6,7,8,9,2,3,4,5]\r\n",
        "sum_odd=0\r\n",
        "sum_even=0\r\n",
        "for x in lst:\r\n",
        "     if x%2==0:\r\n",
        "        sum_even=sum_even+x\r\n",
        "     else:\r\n",
        "        sum_odd = sum_odd+x\r\n",
        "print(sum_odd)\r\n",
        "print(sum_even)        \r\n",
        "\r\n"
      ],
      "execution_count": 1,
      "outputs": [
        {
          "output_type": "stream",
          "text": [
            "28\n",
            "24\n",
            "CPU times: user 170 µs, sys: 0 ns, total: 170 µs\n",
            "Wall time: 145 µs\n"
          ],
          "name": "stdout"
        }
      ]
    },
    {
      "cell_type": "code",
      "metadata": {
        "colab": {
          "base_uri": "https://localhost:8080/"
        },
        "id": "EQ670kJ-anys",
        "outputId": "24669db8-68de-4525-a9c0-4cc4823cf866"
      },
      "source": [
        "name_lst = ['Satyanarayana ','Sailaja ','Revanth ','SaiSnehith']\r\n",
        "sum_str=''\r\n",
        "for x in name_lst:\r\n",
        "  sum_str=sum_str+x\r\n",
        "print(sum_str)  \r\n"
      ],
      "execution_count": 2,
      "outputs": [
        {
          "output_type": "stream",
          "text": [
            "Satyanarayana Sailaja Revanth SaiSnehith\n"
          ],
          "name": "stdout"
        }
      ]
    },
    {
      "cell_type": "code",
      "metadata": {
        "colab": {
          "base_uri": "https://localhost:8080/"
        },
        "id": "ujox_U-vczr4",
        "outputId": "530b9aa3-05d1-46ba-dc87-908e912724b7"
      },
      "source": [
        "%%time\r\n",
        "lst = [1,1,4,2,3,6,7,2,1,4,5]\r\n",
        "sum_odd=0\r\n",
        "sum_even=0\r\n",
        "for x in lst:\r\n",
        "     if x%2==0:\r\n",
        "        sum_even=sum_even+x\r\n",
        "        if sum_even>20:\r\n",
        "          break\r\n",
        "     else:\r\n",
        "        sum_odd = sum_odd+x\r\n",
        "        if sum_odd>20:\r\n",
        "          break\r\n",
        "else:\r\n",
        "  print(\"This is mandatory if no break\") \r\n",
        "  print(sum_even)       \r\n",
        "  print(sum_odd)\r\n",
        "\r\n"
      ],
      "execution_count": 3,
      "outputs": [
        {
          "output_type": "stream",
          "text": [
            "This is mandatory if no break\n",
            "18\n",
            "18\n",
            "CPU times: user 973 µs, sys: 0 ns, total: 973 µs\n",
            "Wall time: 897 µs\n"
          ],
          "name": "stdout"
        }
      ]
    },
    {
      "cell_type": "code",
      "metadata": {
        "colab": {
          "base_uri": "https://localhost:8080/"
        },
        "id": "8vVwJckefNsP",
        "outputId": "31da5236-f19a-4f0c-ec37-6a2f59480d68"
      },
      "source": [
        "lst = [1,1,4,2,3,6,7,2,1,4,5]\r\n",
        "i=0\r\n",
        "sum1 = 0 \r\n",
        "while i<len(lst):\r\n",
        "   sum1 = sum1+lst[i]\r\n",
        "   i=i+1\r\n",
        "print(sum1)\r\n",
        "   "
      ],
      "execution_count": 4,
      "outputs": [
        {
          "output_type": "stream",
          "text": [
            "36\n"
          ],
          "name": "stdout"
        }
      ]
    },
    {
      "cell_type": "code",
      "metadata": {
        "colab": {
          "base_uri": "https://localhost:8080/"
        },
        "id": "SgtRk-5ZiKuv",
        "outputId": "5161f7e5-eedf-41b4-c8b3-2483467b3400"
      },
      "source": [
        "lst = [1,1,4,2,3,6,7,2,1,4,5]\r\n",
        "i=0\r\n",
        "sum_even1 = 0 \r\n",
        "sum_odd1 = 0\r\n",
        "while i<len(lst):\r\n",
        "   if lst[i]%2==0:\r\n",
        "        sum_even1=sum_even1+lst[i]\r\n",
        "        i=i+1\r\n",
        "   else:\r\n",
        "        sum_odd1=sum_odd1+lst[i]\r\n",
        "        i=i+1\r\n",
        "print(sum_odd)\r\n",
        "print(sum_even)"
      ],
      "execution_count": 5,
      "outputs": [
        {
          "output_type": "stream",
          "text": [
            "18\n",
            "18\n"
          ],
          "name": "stdout"
        }
      ]
    },
    {
      "cell_type": "code",
      "metadata": {
        "id": "qrYuf1zCjBOS"
      },
      "source": [
        ""
      ],
      "execution_count": 5,
      "outputs": []
    }
  ]
}